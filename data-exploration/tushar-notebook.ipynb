{
 "cells": [
  {
   "cell_type": "markdown",
   "metadata": {},
   "source": [
    "# NFL Databowl Exploratory Data Analysis\n",
    "By one Tushar Khan ... I don't know what I'm doing"
   ]
  },
  {
   "cell_type": "code",
   "execution_count": null,
   "metadata": {},
   "outputs": [],
   "source": [
    "import pandas as pd\n",
    "import matplotlib.pyplot as plt\n",
    "import seaborn as sn\n",
    "import numpy as np"
   ]
  },
  {
   "cell_type": "code",
   "execution_count": null,
   "metadata": {},
   "outputs": [],
   "source": [
    "# Get path to data folder\n",
    "import os\n",
    "data_path = os.path.join(os.path.split(os.getcwd())[0], 'data')\n",
    "\n",
    "# Load data\n",
    "df = pd.read_csv(os.path.join(data_path, 'clean_data.csv'))\n",
    "\n",
    "# Display data\n",
    "pd.set_option('display.max_columns', None) # displays all columns\n",
    "df.sample(5)"
   ]
  },
  {
   "cell_type": "markdown",
   "metadata": {},
   "source": [
    "## Basic Feature Exploration"
   ]
  },
  {
   "cell_type": "code",
   "execution_count": null,
   "metadata": {},
   "outputs": [],
   "source": [
    "# Number of games\n",
    "len(df['GameId'].unique())"
   ]
  },
  {
   "cell_type": "markdown",
   "metadata": {},
   "source": [
    "### Label Distribution"
   ]
  },
  {
   "cell_type": "code",
   "execution_count": null,
   "metadata": {},
   "outputs": [],
   "source": [
    "label = df.columns[27] # label to predict ('Yards')\n",
    "yards_min, yards_max = -10, 30 # defines min and max label value for plots\n",
    "\n",
    "fig, ax = plt.subplots(figsize=(15,8))\n",
    "df.hist(column=label, range=(yards_min, yards_max), bins=yards_max-yards_min, linewidth=0.5, color='lightgreen', ec='black', ax=ax)\n",
    "\n",
    "ax.xaxis.grid(False)\n",
    "ax.yaxis.grid(True)\n",
    "ax.yaxis.set_tick_params(grid_linestyle='--', grid_alpha=0.8) # set tick style\n",
    "ax.yaxis.set_major_locator(plt.MultipleLocator(10_000)) # set tick interval\n",
    "ax.set(xlabel=\"\\nYards Gained\\n\")\n",
    "\n",
    "# Draw line of scrimmage\n",
    "plt.axvline(x=0, color='red', linestyle='--', linewidth=1.2)\n",
    "plt.text(-5.3, 50_000, r'Line of Scrimmage', color='red')\n",
    "\n",
    "plt.show()"
   ]
  },
  {
   "cell_type": "markdown",
   "metadata": {},
   "source": [
    "### Feature Correlation Matrix"
   ]
  },
  {
   "cell_type": "code",
   "execution_count": null,
   "metadata": {},
   "outputs": [],
   "source": [
    "plt.figure(figsize=(12,12))\n",
    "sn.heatmap(df.corr(), center=0, vmin=-1, vmax=1, square=True, linewidths=0.01)"
   ]
  },
  {
   "cell_type": "markdown",
   "metadata": {},
   "source": [
    "### Feature-Label Correlation Exploration"
   ]
  },
  {
   "cell_type": "code",
   "execution_count": null,
   "metadata": {},
   "outputs": [],
   "source": [
    "fig, ax = plt.subplots(figsize=(10,15))\n",
    "\n",
    "# Sort groups by label median\n",
    "order = df.groupby(by=['DefensePersonnel'])[label].median().sort_values(ascending=True).index\n",
    "sn.boxplot(x=df[label], y=df['DefensePersonnel'], order=order, showfliers=False, linewidth=0.8, ax=ax)\n",
    "\n",
    "ax.xaxis.grid(True)\n",
    "ax.yaxis.grid(False)\n",
    "ax.xaxis.set_tick_params(grid_linestyle='--', grid_alpha=0.8) # set tick style\n",
    "ax.xaxis.set_major_locator(plt.MultipleLocator(1)) # set tick interval\n",
    "ax.set(xlabel=\"\\nYards Gained\\n\")\n",
    "\n",
    "# Draw line of scrimmage\n",
    "plt.axvline(x=0, color='red', linestyle='--', linewidth=1.2)\n",
    "plt.text(-5.3, 43, r'Line of Scrimmage', color='red')\n",
    "\n",
    "plt.show()"
   ]
  },
  {
   "cell_type": "code",
   "execution_count": null,
   "metadata": {},
   "outputs": [],
   "source": [
    "fig, ax = plt.subplots(figsize=(10,15))\n",
    "\n",
    "# Sort groups by label median\n",
    "order = df.groupby(by=['OffensePersonnel'])[label].median().sort_values(ascending=True).index\n",
    "sn.boxplot(x=df[label], y=df['OffensePersonnel'], order=order, showfliers=False, linewidth=0.8, ax=ax)\n",
    "\n",
    "ax.xaxis.grid(True)\n",
    "ax.yaxis.grid(False)\n",
    "ax.xaxis.set_tick_params(grid_linestyle='--', grid_alpha=0.8) # set tick style\n",
    "ax.xaxis.set_major_locator(plt.MultipleLocator(1)) # set tick interval\n",
    "ax.set(xlabel=\"\\nYards Gained\\n\")\n",
    "\n",
    "# Draw line of scrimmage\n",
    "plt.axvline(x=0, color='red', linestyle='--', linewidth=1.2)\n",
    "plt.text(-5.3, 42, r'Line of Scrimmage', color='red')\n",
    "\n",
    "plt.show()"
   ]
  },
  {
   "cell_type": "code",
   "execution_count": null,
   "metadata": {},
   "outputs": [],
   "source": []
  }
 ],
 "metadata": {
  "kernelspec": {
   "display_name": "Python 3.7.2 64-bit",
   "language": "python",
   "name": "python37264bitb741bd9f91e74575848f4d989c286a1f"
  },
  "language_info": {
   "codemirror_mode": {
    "name": "ipython",
    "version": 3
   },
   "file_extension": ".py",
   "mimetype": "text/x-python",
   "name": "python",
   "nbconvert_exporter": "python",
   "pygments_lexer": "ipython3",
   "version": "3.7.2"
  }
 },
 "nbformat": 4,
 "nbformat_minor": 4
}
