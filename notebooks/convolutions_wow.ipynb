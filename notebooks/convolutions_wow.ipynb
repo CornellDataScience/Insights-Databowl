{
 "cells": [
  {
   "cell_type": "code",
   "execution_count": 1,
   "metadata": {},
   "outputs": [
    {
     "name": "stderr",
     "output_type": "stream",
     "text": [
      "/home/scf73/Insights-Databowl/env/lib/python3.6/site-packages/tensorflow/python/framework/dtypes.py:516: FutureWarning: Passing (type, 1) or '1type' as a synonym of type is deprecated; in a future version of numpy, it will be understood as (type, (1,)) / '(1,)type'.\n",
      "  _np_qint8 = np.dtype([(\"qint8\", np.int8, 1)])\n",
      "/home/scf73/Insights-Databowl/env/lib/python3.6/site-packages/tensorflow/python/framework/dtypes.py:517: FutureWarning: Passing (type, 1) or '1type' as a synonym of type is deprecated; in a future version of numpy, it will be understood as (type, (1,)) / '(1,)type'.\n",
      "  _np_quint8 = np.dtype([(\"quint8\", np.uint8, 1)])\n",
      "/home/scf73/Insights-Databowl/env/lib/python3.6/site-packages/tensorflow/python/framework/dtypes.py:518: FutureWarning: Passing (type, 1) or '1type' as a synonym of type is deprecated; in a future version of numpy, it will be understood as (type, (1,)) / '(1,)type'.\n",
      "  _np_qint16 = np.dtype([(\"qint16\", np.int16, 1)])\n",
      "/home/scf73/Insights-Databowl/env/lib/python3.6/site-packages/tensorflow/python/framework/dtypes.py:519: FutureWarning: Passing (type, 1) or '1type' as a synonym of type is deprecated; in a future version of numpy, it will be understood as (type, (1,)) / '(1,)type'.\n",
      "  _np_quint16 = np.dtype([(\"quint16\", np.uint16, 1)])\n",
      "/home/scf73/Insights-Databowl/env/lib/python3.6/site-packages/tensorflow/python/framework/dtypes.py:520: FutureWarning: Passing (type, 1) or '1type' as a synonym of type is deprecated; in a future version of numpy, it will be understood as (type, (1,)) / '(1,)type'.\n",
      "  _np_qint32 = np.dtype([(\"qint32\", np.int32, 1)])\n",
      "/home/scf73/Insights-Databowl/env/lib/python3.6/site-packages/tensorflow/python/framework/dtypes.py:525: FutureWarning: Passing (type, 1) or '1type' as a synonym of type is deprecated; in a future version of numpy, it will be understood as (type, (1,)) / '(1,)type'.\n",
      "  np_resource = np.dtype([(\"resource\", np.ubyte, 1)])\n",
      "/home/scf73/Insights-Databowl/env/lib/python3.6/site-packages/tensorboard/compat/tensorflow_stub/dtypes.py:541: FutureWarning: Passing (type, 1) or '1type' as a synonym of type is deprecated; in a future version of numpy, it will be understood as (type, (1,)) / '(1,)type'.\n",
      "  _np_qint8 = np.dtype([(\"qint8\", np.int8, 1)])\n",
      "/home/scf73/Insights-Databowl/env/lib/python3.6/site-packages/tensorboard/compat/tensorflow_stub/dtypes.py:542: FutureWarning: Passing (type, 1) or '1type' as a synonym of type is deprecated; in a future version of numpy, it will be understood as (type, (1,)) / '(1,)type'.\n",
      "  _np_quint8 = np.dtype([(\"quint8\", np.uint8, 1)])\n",
      "/home/scf73/Insights-Databowl/env/lib/python3.6/site-packages/tensorboard/compat/tensorflow_stub/dtypes.py:543: FutureWarning: Passing (type, 1) or '1type' as a synonym of type is deprecated; in a future version of numpy, it will be understood as (type, (1,)) / '(1,)type'.\n",
      "  _np_qint16 = np.dtype([(\"qint16\", np.int16, 1)])\n",
      "/home/scf73/Insights-Databowl/env/lib/python3.6/site-packages/tensorboard/compat/tensorflow_stub/dtypes.py:544: FutureWarning: Passing (type, 1) or '1type' as a synonym of type is deprecated; in a future version of numpy, it will be understood as (type, (1,)) / '(1,)type'.\n",
      "  _np_quint16 = np.dtype([(\"quint16\", np.uint16, 1)])\n",
      "/home/scf73/Insights-Databowl/env/lib/python3.6/site-packages/tensorboard/compat/tensorflow_stub/dtypes.py:545: FutureWarning: Passing (type, 1) or '1type' as a synonym of type is deprecated; in a future version of numpy, it will be understood as (type, (1,)) / '(1,)type'.\n",
      "  _np_qint32 = np.dtype([(\"qint32\", np.int32, 1)])\n",
      "/home/scf73/Insights-Databowl/env/lib/python3.6/site-packages/tensorboard/compat/tensorflow_stub/dtypes.py:550: FutureWarning: Passing (type, 1) or '1type' as a synonym of type is deprecated; in a future version of numpy, it will be understood as (type, (1,)) / '(1,)type'.\n",
      "  np_resource = np.dtype([(\"resource\", np.ubyte, 1)])\n"
     ]
    }
   ],
   "source": [
    "import numpy as np\n",
    "import pandas as pd\n",
    "import matplotlib.pyplot as plt\n",
    "import seaborn as sns\n",
    "import tensorflow as tf\n",
    "import tensorflow.keras.backend as K\n",
    "from tqdm import tqdm\n",
    "from sklearn.model_selection import train_test_split\n"
   ]
  },
  {
   "cell_type": "markdown",
   "metadata": {},
   "source": [
    " # Convolutional Neural Nets\n",
    "\n",
    "We can pose this problem as a set of interactions between 1 rusher, 11 defenders, and 10 offense players trying to help the rusher. From this angle, we can construct a matrix of 10 defense x 11 offense and perform convolutions to relate their positions and velocities. To do this, we construct a convolutional neural net."
   ]
  },
  {
   "cell_type": "markdown",
   "metadata": {},
   "source": [
    " ## Data Import\n",
    "\n",
    " We've already done a lot of feature engineering in a different notebook, so\n",
    " this will be brief. We're going to drop a lot of the columns as well, since we\n",
    " only use player speeds and positions."
   ]
  },
  {
   "cell_type": "code",
   "execution_count": 2,
   "metadata": {},
   "outputs": [
    {
     "data": {
      "text/html": [
       "<div>\n",
       "<style scoped>\n",
       "    .dataframe tbody tr th:only-of-type {\n",
       "        vertical-align: middle;\n",
       "    }\n",
       "\n",
       "    .dataframe tbody tr th {\n",
       "        vertical-align: top;\n",
       "    }\n",
       "\n",
       "    .dataframe thead th {\n",
       "        text-align: right;\n",
       "    }\n",
       "</style>\n",
       "<table border=\"1\" class=\"dataframe\">\n",
       "  <thead>\n",
       "    <tr style=\"text-align: right;\">\n",
       "      <th></th>\n",
       "      <th>GameId</th>\n",
       "      <th>Unnamed: 0</th>\n",
       "      <th>Team</th>\n",
       "      <th>X</th>\n",
       "      <th>Y</th>\n",
       "      <th>S</th>\n",
       "      <th>A</th>\n",
       "      <th>Orientation</th>\n",
       "      <th>Dir</th>\n",
       "      <th>Season</th>\n",
       "      <th>...</th>\n",
       "      <th>Formation_SINGLEBACK</th>\n",
       "      <th>Formation_WILDCAT</th>\n",
       "      <th>PlayerBMI</th>\n",
       "      <th>TimeDelta</th>\n",
       "      <th>PlayerAge</th>\n",
       "      <th>IsRusher</th>\n",
       "      <th>YardsLeft</th>\n",
       "      <th>IsOffense</th>\n",
       "      <th>YardLine_adj</th>\n",
       "      <th>X_adj</th>\n",
       "    </tr>\n",
       "    <tr>\n",
       "      <th>PlayId</th>\n",
       "      <th></th>\n",
       "      <th></th>\n",
       "      <th></th>\n",
       "      <th></th>\n",
       "      <th></th>\n",
       "      <th></th>\n",
       "      <th></th>\n",
       "      <th></th>\n",
       "      <th></th>\n",
       "      <th></th>\n",
       "      <th></th>\n",
       "      <th></th>\n",
       "      <th></th>\n",
       "      <th></th>\n",
       "      <th></th>\n",
       "      <th></th>\n",
       "      <th></th>\n",
       "      <th></th>\n",
       "      <th></th>\n",
       "      <th></th>\n",
       "      <th></th>\n",
       "    </tr>\n",
       "  </thead>\n",
       "  <tbody>\n",
       "    <tr>\n",
       "      <th>20170907000118</th>\n",
       "      <td>2017090700</td>\n",
       "      <td>0</td>\n",
       "      <td>False</td>\n",
       "      <td>46.09</td>\n",
       "      <td>34.84</td>\n",
       "      <td>4.0</td>\n",
       "      <td>1.13</td>\n",
       "      <td>278.01</td>\n",
       "      <td>182.82</td>\n",
       "      <td>2017</td>\n",
       "      <td>...</td>\n",
       "      <td>0</td>\n",
       "      <td>0</td>\n",
       "      <td>28.749228</td>\n",
       "      <td>1.0</td>\n",
       "      <td>28.692760</td>\n",
       "      <td>False</td>\n",
       "      <td>35</td>\n",
       "      <td>False</td>\n",
       "      <td>35</td>\n",
       "      <td>1.09</td>\n",
       "    </tr>\n",
       "    <tr>\n",
       "      <th>20170907000118</th>\n",
       "      <td>2017090700</td>\n",
       "      <td>1</td>\n",
       "      <td>False</td>\n",
       "      <td>45.33</td>\n",
       "      <td>32.64</td>\n",
       "      <td>0.1</td>\n",
       "      <td>1.35</td>\n",
       "      <td>332.39</td>\n",
       "      <td>161.30</td>\n",
       "      <td>2017</td>\n",
       "      <td>...</td>\n",
       "      <td>0</td>\n",
       "      <td>0</td>\n",
       "      <td>35.993600</td>\n",
       "      <td>1.0</td>\n",
       "      <td>28.457305</td>\n",
       "      <td>False</td>\n",
       "      <td>35</td>\n",
       "      <td>False</td>\n",
       "      <td>35</td>\n",
       "      <td>0.33</td>\n",
       "    </tr>\n",
       "    <tr>\n",
       "      <th>20170907000118</th>\n",
       "      <td>2017090700</td>\n",
       "      <td>2</td>\n",
       "      <td>False</td>\n",
       "      <td>46.00</td>\n",
       "      <td>33.20</td>\n",
       "      <td>3.1</td>\n",
       "      <td>0.59</td>\n",
       "      <td>356.99</td>\n",
       "      <td>157.27</td>\n",
       "      <td>2017</td>\n",
       "      <td>...</td>\n",
       "      <td>0</td>\n",
       "      <td>0</td>\n",
       "      <td>33.744000</td>\n",
       "      <td>1.0</td>\n",
       "      <td>28.629790</td>\n",
       "      <td>False</td>\n",
       "      <td>35</td>\n",
       "      <td>False</td>\n",
       "      <td>35</td>\n",
       "      <td>1.00</td>\n",
       "    </tr>\n",
       "    <tr>\n",
       "      <th>20170907000118</th>\n",
       "      <td>2017090700</td>\n",
       "      <td>3</td>\n",
       "      <td>False</td>\n",
       "      <td>48.54</td>\n",
       "      <td>27.70</td>\n",
       "      <td>0.2</td>\n",
       "      <td>0.54</td>\n",
       "      <td>0.23</td>\n",
       "      <td>254.36</td>\n",
       "      <td>2017</td>\n",
       "      <td>...</td>\n",
       "      <td>0</td>\n",
       "      <td>0</td>\n",
       "      <td>30.619556</td>\n",
       "      <td>1.0</td>\n",
       "      <td>34.795430</td>\n",
       "      <td>False</td>\n",
       "      <td>35</td>\n",
       "      <td>False</td>\n",
       "      <td>35</td>\n",
       "      <td>3.54</td>\n",
       "    </tr>\n",
       "    <tr>\n",
       "      <th>20170907000118</th>\n",
       "      <td>2017090700</td>\n",
       "      <td>4</td>\n",
       "      <td>False</td>\n",
       "      <td>50.68</td>\n",
       "      <td>35.42</td>\n",
       "      <td>1.6</td>\n",
       "      <td>2.43</td>\n",
       "      <td>347.37</td>\n",
       "      <td>195.69</td>\n",
       "      <td>2017</td>\n",
       "      <td>...</td>\n",
       "      <td>0</td>\n",
       "      <td>0</td>\n",
       "      <td>27.935571</td>\n",
       "      <td>1.0</td>\n",
       "      <td>30.061685</td>\n",
       "      <td>False</td>\n",
       "      <td>35</td>\n",
       "      <td>False</td>\n",
       "      <td>35</td>\n",
       "      <td>5.68</td>\n",
       "    </tr>\n",
       "  </tbody>\n",
       "</table>\n",
       "<p>5 rows × 43 columns</p>\n",
       "</div>"
      ],
      "text/plain": [
       "                    GameId  Unnamed: 0   Team      X      Y    S     A  \\\n",
       "PlayId                                                                   \n",
       "20170907000118  2017090700           0  False  46.09  34.84  4.0  1.13   \n",
       "20170907000118  2017090700           1  False  45.33  32.64  0.1  1.35   \n",
       "20170907000118  2017090700           2  False  46.00  33.20  3.1  0.59   \n",
       "20170907000118  2017090700           3  False  48.54  27.70  0.2  0.54   \n",
       "20170907000118  2017090700           4  False  50.68  35.42  1.6  2.43   \n",
       "\n",
       "                Orientation     Dir  Season  ...  Formation_SINGLEBACK  \\\n",
       "PlayId                                       ...                         \n",
       "20170907000118       278.01  182.82    2017  ...                     0   \n",
       "20170907000118       332.39  161.30    2017  ...                     0   \n",
       "20170907000118       356.99  157.27    2017  ...                     0   \n",
       "20170907000118         0.23  254.36    2017  ...                     0   \n",
       "20170907000118       347.37  195.69    2017  ...                     0   \n",
       "\n",
       "                Formation_WILDCAT  PlayerBMI  TimeDelta  PlayerAge  IsRusher  \\\n",
       "PlayId                                                                         \n",
       "20170907000118                  0  28.749228        1.0  28.692760     False   \n",
       "20170907000118                  0  35.993600        1.0  28.457305     False   \n",
       "20170907000118                  0  33.744000        1.0  28.629790     False   \n",
       "20170907000118                  0  30.619556        1.0  34.795430     False   \n",
       "20170907000118                  0  27.935571        1.0  30.061685     False   \n",
       "\n",
       "                YardsLeft  IsOffense  YardLine_adj  X_adj  \n",
       "PlayId                                                     \n",
       "20170907000118         35      False            35   1.09  \n",
       "20170907000118         35      False            35   0.33  \n",
       "20170907000118         35      False            35   1.00  \n",
       "20170907000118         35      False            35   3.54  \n",
       "20170907000118         35      False            35   5.68  \n",
       "\n",
       "[5 rows x 43 columns]"
      ]
     },
     "execution_count": 2,
     "metadata": {},
     "output_type": "execute_result"
    }
   ],
   "source": [
    "raw_data = pd.read_csv(\"../data/fe_data.csv\", index_col=[1])\n",
    "raw_data.head()\n"
   ]
  },
  {
   "cell_type": "code",
   "execution_count": 3,
   "metadata": {},
   "outputs": [
    {
     "data": {
      "text/html": [
       "<div>\n",
       "<style scoped>\n",
       "    .dataframe tbody tr th:only-of-type {\n",
       "        vertical-align: middle;\n",
       "    }\n",
       "\n",
       "    .dataframe tbody tr th {\n",
       "        vertical-align: top;\n",
       "    }\n",
       "\n",
       "    .dataframe thead th {\n",
       "        text-align: right;\n",
       "    }\n",
       "</style>\n",
       "<table border=\"1\" class=\"dataframe\">\n",
       "  <thead>\n",
       "    <tr style=\"text-align: right;\">\n",
       "      <th></th>\n",
       "      <th>IsOffense</th>\n",
       "      <th>IsRusher</th>\n",
       "      <th>X</th>\n",
       "      <th>Y</th>\n",
       "      <th>S</th>\n",
       "      <th>A</th>\n",
       "      <th>Dir</th>\n",
       "      <th>Yards</th>\n",
       "    </tr>\n",
       "    <tr>\n",
       "      <th>PlayId</th>\n",
       "      <th></th>\n",
       "      <th></th>\n",
       "      <th></th>\n",
       "      <th></th>\n",
       "      <th></th>\n",
       "      <th></th>\n",
       "      <th></th>\n",
       "      <th></th>\n",
       "    </tr>\n",
       "  </thead>\n",
       "  <tbody>\n",
       "    <tr>\n",
       "      <th>20170907000118</th>\n",
       "      <td>False</td>\n",
       "      <td>False</td>\n",
       "      <td>46.09</td>\n",
       "      <td>34.84</td>\n",
       "      <td>4.0</td>\n",
       "      <td>1.13</td>\n",
       "      <td>182.82</td>\n",
       "      <td>8</td>\n",
       "    </tr>\n",
       "    <tr>\n",
       "      <th>20170907000118</th>\n",
       "      <td>False</td>\n",
       "      <td>False</td>\n",
       "      <td>45.33</td>\n",
       "      <td>32.64</td>\n",
       "      <td>0.1</td>\n",
       "      <td>1.35</td>\n",
       "      <td>161.30</td>\n",
       "      <td>8</td>\n",
       "    </tr>\n",
       "    <tr>\n",
       "      <th>20170907000118</th>\n",
       "      <td>False</td>\n",
       "      <td>False</td>\n",
       "      <td>46.00</td>\n",
       "      <td>33.20</td>\n",
       "      <td>3.1</td>\n",
       "      <td>0.59</td>\n",
       "      <td>157.27</td>\n",
       "      <td>8</td>\n",
       "    </tr>\n",
       "    <tr>\n",
       "      <th>20170907000118</th>\n",
       "      <td>False</td>\n",
       "      <td>False</td>\n",
       "      <td>48.54</td>\n",
       "      <td>27.70</td>\n",
       "      <td>0.2</td>\n",
       "      <td>0.54</td>\n",
       "      <td>254.36</td>\n",
       "      <td>8</td>\n",
       "    </tr>\n",
       "    <tr>\n",
       "      <th>20170907000118</th>\n",
       "      <td>False</td>\n",
       "      <td>False</td>\n",
       "      <td>50.68</td>\n",
       "      <td>35.42</td>\n",
       "      <td>1.6</td>\n",
       "      <td>2.43</td>\n",
       "      <td>195.69</td>\n",
       "      <td>8</td>\n",
       "    </tr>\n",
       "  </tbody>\n",
       "</table>\n",
       "</div>"
      ],
      "text/plain": [
       "                IsOffense  IsRusher      X      Y    S     A     Dir  Yards\n",
       "PlayId                                                                     \n",
       "20170907000118      False     False  46.09  34.84  4.0  1.13  182.82      8\n",
       "20170907000118      False     False  45.33  32.64  0.1  1.35  161.30      8\n",
       "20170907000118      False     False  46.00  33.20  3.1  0.59  157.27      8\n",
       "20170907000118      False     False  48.54  27.70  0.2  0.54  254.36      8\n",
       "20170907000118      False     False  50.68  35.42  1.6  2.43  195.69      8"
      ]
     },
     "execution_count": 3,
     "metadata": {},
     "output_type": "execute_result"
    }
   ],
   "source": [
    "keep_columns = [\"IsOffense\",\"IsRusher\",\"X\",\"Y\",\"S\",\"A\",\"Dir\",\"Yards\"]\n",
    "data = raw_data[keep_columns]\n",
    "data.head()\n"
   ]
  },
  {
   "cell_type": "markdown",
   "metadata": {},
   "source": [
    " Some of these plays don't have data on all 22 players. We filter these out.\n",
    " Fortunately, we only lose about 24 plays."
   ]
  },
  {
   "cell_type": "code",
   "execution_count": 4,
   "metadata": {},
   "outputs": [
    {
     "name": "stderr",
     "output_type": "stream",
     "text": [
      "100%|██████████| 30703/30703 [00:06<00:00, 4928.18it/s]\n"
     ]
    },
    {
     "data": {
      "text/plain": [
       "(674938, 8)"
      ]
     },
     "execution_count": 4,
     "metadata": {},
     "output_type": "execute_result"
    }
   ],
   "source": [
    "indices = data.index.unique()\n",
    "\n",
    "wrong_shape = []\n",
    "for i in tqdm(indices):\n",
    "    if data.loc[i].shape != (22,len(keep_columns)):\n",
    "        wrong_shape.append(i)\n",
    "\n",
    "data = data.drop(wrong_shape)\n",
    "data.shape\n"
   ]
  },
  {
   "cell_type": "markdown",
   "metadata": {},
   "source": [
    " Let's engineer the components of each player's velocity. First we need to\n",
    " understand how to interpret the `Dir` variable."
   ]
  },
  {
   "cell_type": "code",
   "execution_count": 5,
   "metadata": {},
   "outputs": [
    {
     "data": {
      "image/png": "[encoded data removed]",
      "text/plain": [
       "<Figure size 432x288 with 1 Axes>"
      ]
     },
     "metadata": {
      "needs_background": "light"
     },
     "output_type": "display_data"
    }
   ],
   "source": [
    "sns.kdeplot(data.loc[data.IsOffense,'Dir'], shade=True, label='offense')\n",
    "sns.kdeplot(data.loc[~data.IsOffense,'Dir'], shade=True, label='defense')\n",
    "plt.legend()\n",
    "plt.show()\n"
   ]
  },
  {
   "cell_type": "markdown",
   "metadata": {},
   "source": [
    " Because the offense is usually pushing toward positive X, we can understand\n",
    " that $S_x = S \\times sin(Dir)$ and $S_y = S \\times -cos(Dir)$."
   ]
  },
  {
   "cell_type": "code",
   "execution_count": 6,
   "metadata": {},
   "outputs": [],
   "source": [
    "dir_rad = np.deg2rad(data.Dir)\n",
    "S_x = data.S * np.sin(dir_rad)\n",
    "S_y = -data.S * np.cos(dir_rad)\n",
    "\n",
    "data['S_x'] = S_x\n",
    "data['S_y'] = S_y\n"
   ]
  },
  {
   "cell_type": "markdown",
   "metadata": {},
   "source": [
    " We can verify that we're correctly assigning the x speed by comparing offense\n",
    " and defense. Offense should generally have a positive x speed while defense\n",
    " should have a negative one, which we see below."
   ]
  },
  {
   "cell_type": "code",
   "execution_count": 7,
   "metadata": {},
   "outputs": [
    {
     "data": {
      "image/png": "[encoded data removed]",
      "text/plain": [
       "<Figure size 432x288 with 1 Axes>"
      ]
     },
     "metadata": {
      "needs_background": "light"
     },
     "output_type": "display_data"
    }
   ],
   "source": [
    "sns.kdeplot(S_x.loc[data.IsOffense], label='offense x')\n",
    "sns.kdeplot(S_x.loc[~data.IsOffense], label='defense x')\n",
    "plt.legend()\n",
    "plt.show()\n"
   ]
  },
  {
   "cell_type": "markdown",
   "metadata": {},
   "source": [
    " ## Data Reformatting\n",
    " We break down the dataframe into a list of dataframes, where each entry\n",
    " contains a dataframe representing a play. We then convert them to numpy\n",
    " matrices, so that the first dimension is the play, second is the player, third\n",
    " is the feature.\n",
    "\n",
    " We have to `expand_dims` for the rusher because numpy squeezes out the player\n",
    " dimension and we want it to have the same dimensionality as the other arrays."
   ]
  },
  {
   "cell_type": "code",
   "execution_count": 8,
   "metadata": {},
   "outputs": [],
   "source": [
    "# Split data into play lists\n",
    "cols = ['X', 'Y', 'S_x', 'S_y']\n",
    "\n",
    "off_axis = 1 # the axis along which the offensive player changes\n",
    "def_axis = 2 # the axis along which the defensive player changes\n",
    "\n",
    "df = data.loc[:,cols]"
   ]
  },
  {
   "cell_type": "markdown",
   "metadata": {},
   "source": [
    " We normalize the columns as well."
   ]
  },
  {
   "cell_type": "code",
   "execution_count": 9,
   "metadata": {},
   "outputs": [],
   "source": [
    "#norm_data = (df - df.mean()) / df.std()\n",
    "#norm_data.head()\n"
   ]
  },
  {
   "cell_type": "code",
   "execution_count": 10,
   "metadata": {},
   "outputs": [
    {
     "name": "stderr",
     "output_type": "stream",
     "text": [
      "100%|██████████| 30679/30679 [00:07<00:00, 4332.33it/s]\n",
      "100%|██████████| 30679/30679 [00:06<00:00, 4403.22it/s]\n",
      "100%|██████████| 30679/30679 [00:03<00:00, 8166.13it/s]\n"
     ]
    },
    {
     "name": "stdout",
     "output_type": "stream",
     "text": [
      "Offense data shape (30679, 10, 11, 4)\n",
      "Defense data shape (30679, 10, 11, 4)\n",
      "Rusher data shape (30679, 10, 11, 4)\n"
     ]
    }
   ],
   "source": [
    "# Split offense and defense data\n",
    "off_data = df.loc[data.IsOffense & ~data.IsRusher]\n",
    "def_data = df.loc[~data.IsOffense]\n",
    "rus_data = df.loc[data.IsRusher]\n",
    "\n",
    "split_plays = lambda df: [df.loc[i,:] for i in tqdm(df.index.unique())]\n",
    "\n",
    "#plays = split_plays(data)\n",
    "off_plays = split_plays(off_data)\n",
    "def_plays = split_plays(def_data)\n",
    "rus_plays = split_plays(rus_data)\n",
    "\n",
    "off_m = np.array([df.values for df in off_plays])\n",
    "def_m = np.array([df.values for df in def_plays])\n",
    "rus_m = np.array([df.values for df in rus_plays])\n",
    "\n",
    "# Expand and repeat arrays to match shapes\n",
    "off_m = np.expand_dims(off_m, axis=def_axis).repeat(11, def_axis)\n",
    "def_m = np.expand_dims(def_m, axis=off_axis).repeat(10, off_axis)\n",
    "\n",
    "rus_m = np.expand_dims(rus_m, off_axis).repeat(10, off_axis)\n",
    "rus_m = np.expand_dims(rus_m, def_axis).repeat(11, def_axis)\n",
    "\n",
    "print(\"Offense data shape\", off_m.shape)\n",
    "print(\"Defense data shape\", def_m.shape)\n",
    "print(\"Rusher data shape\", rus_m.shape)\n"
   ]
  },
  {
   "cell_type": "markdown",
   "metadata": {},
   "source": [
    " ## Feature Engineering\n",
    "\n",
    " Now we engineer specific features from the columns we collected. The shape of\n",
    " our \"image\" is 10 offensive players x 11 defensive players. We will represent\n",
    " scalar features, such as those for the rusher, as a constant values across the\n",
    " matrix and 1-D features as repeating across the appropriate axis."
   ]
  },
  {
   "cell_type": "markdown",
   "metadata": {},
   "source": [
    " ### Defender\n",
    "\n",
    " This layer consists of two features:\n",
    "\n",
    " - defender $S_x$\n",
    " - defender $S_y$\n",
    "\n",
    "\n",
    " It does not include any information about the offense or the rusher"
   ]
  },
  {
   "cell_type": "code",
   "execution_count": 11,
   "metadata": {},
   "outputs": [
    {
     "data": {
      "text/plain": [
       "(30679, 10, 11, 2)"
      ]
     },
     "execution_count": 11,
     "metadata": {},
     "output_type": "execute_result"
    }
   ],
   "source": [
    "# Defender velocity feature\n",
    "def_vel = def_m[:,:,:,2:]\n",
    "def_vel.shape\n"
   ]
  },
  {
   "cell_type": "markdown",
   "metadata": {},
   "source": [
    " ### Offense-Defense layer\n",
    "\n",
    " These features compare the (x,y) positions of the offensive and defensive\n",
    " players. This builds five features:\n",
    "\n",
    " - x distance\n",
    " - y distance\n",
    " - x relative speed\n",
    " - y relative speed\n",
    " - euclidean distance\n",
    "\n",
    "\n",
    " This way the model is trained on both the absolute euclidean distance (so it\n",
    " doesn'have to calculate that) as well as each of its components, which\n",
    " preserve directionality as well."
   ]
  },
  {
   "cell_type": "code",
   "execution_count": 12,
   "metadata": {},
   "outputs": [
    {
     "data": {
      "text/plain": [
       "(30679, 10, 11, 5)"
      ]
     },
     "execution_count": 12,
     "metadata": {},
     "output_type": "execute_result"
    }
   ],
   "source": [
    "# X and Y components of relative position and velocity\n",
    "off_def_rel_comp = off_m - def_m\n",
    "\n",
    "# Euclidean distance\n",
    "off_def_ed = np.sqrt(np.square(off_def_rel_comp[:,:,:,:2]).sum(axis=3))\n",
    "off_def_ed = np.expand_dims(off_def_ed, 3)\n",
    "\n",
    "off_def = np.concatenate([off_def_rel_comp, off_def_ed], axis=3)\n",
    "off_def.shape\n"
   ]
  },
  {
   "cell_type": "markdown",
   "metadata": {},
   "source": [
    " ### Defender vs. Rusher\n",
    "\n",
    " The distances from the defenders to the rusher. Five features:\n",
    "\n",
    " - x distance\n",
    " - y distance\n",
    " - x relative speed\n",
    " - y relative speed\n",
    " - euclidean distance\n",
    "\n",
    "\n",
    " The procedure is similar to the offensive vs. defensive positions"
   ]
  },
  {
   "cell_type": "code",
   "execution_count": 13,
   "metadata": {},
   "outputs": [
    {
     "data": {
      "text/plain": [
       "(30679, 10, 11, 5)"
      ]
     },
     "execution_count": 13,
     "metadata": {},
     "output_type": "execute_result"
    }
   ],
   "source": [
    "# Components speed & velocity\n",
    "def_rus_rel_comp = def_m - rus_m\n",
    "\n",
    "# Euclidean distance\n",
    "def_rus_ed = np.sqrt(np.square(def_rus_rel_comp[:,:,:,:2]).sum(axis=3))\n",
    "def_rus_ed = np.expand_dims(def_rus_ed, 3)\n",
    "\n",
    "def_rus = np.concatenate([def_rus_rel_comp, def_rus_ed], axis=3)\n",
    "def_rus.shape\n"
   ]
  },
  {
   "cell_type": "code",
   "execution_count": 23,
   "metadata": {},
   "outputs": [
    {
     "name": "stdout",
     "output_type": "stream",
     "text": [
      "X shape: (30679, 10, 11, 12)\n",
      "Y shape: (23009, 199)\n"
     ]
    }
   ],
   "source": [
    "target = data.loc[data.IsRusher, \"Yards\"]\n",
    "\n",
    "def pdf(n):\n",
    "    arr = [0] * 199\n",
    "    arr[n+99] = 1\n",
    "    return arr\n",
    "\n",
    "features = [\n",
    "    def_vel,\n",
    "    off_def,\n",
    "    def_rus\n",
    "]\n",
    "\n",
    "x = np.concatenate(features, axis=3)\n",
    "y = target.values.astype(np.int)\n",
    "\n",
    "x_train, x_test, y_train, y_test = train_test_split(x,y)\n",
    "\n",
    "y_min, y_max = -30, 50\n",
    "\n",
    "y_train = np.array( list(map(pdf, y_train.clip(y_min, y_max))) )\n",
    "y_test = np.array( list(map(pdf,y_test)) )\n",
    "\n",
    "print(\"X shape:\", x.shape)\n",
    "print(\"Y shape:\", y_train.shape)\n"
   ]
  },
  {
   "cell_type": "markdown",
   "metadata": {},
   "source": [
    " ## Build model\n",
    " We use three layers of 2D convolution over both offense and defense, then two layers of 1D convolution over the offense axis. Finally, we have one hidden dense layer connected to our output."
   ]
  },
  {
   "cell_type": "code",
   "execution_count": 24,
   "metadata": {
    "scrolled": true
   },
   "outputs": [
    {
     "name": "stdout",
     "output_type": "stream",
     "text": [
      "Model: \"sequential_2\"\n",
      "_________________________________________________________________\n",
      "Layer (type)                 Output Shape              Param #   \n",
      "=================================================================\n",
      "conv2d_6 (Conv2D)            (None, 10, 11, 128)       1664      \n",
      "_________________________________________________________________\n",
      "conv2d_7 (Conv2D)            (None, 10, 11, 160)       20640     \n",
      "_________________________________________________________________\n",
      "conv2d_8 (Conv2D)            (None, 10, 11, 128)       20608     \n",
      "_________________________________________________________________\n",
      "max_pooling2d_2 (MaxPooling2 (None, 1, 11, 128)        0         \n",
      "_________________________________________________________________\n",
      "lambda_4 (Lambda)            (None, 11, 128)           0         \n",
      "_________________________________________________________________\n",
      "conv1d_4 (Conv1D)            (None, 11, 96)            12384     \n",
      "_________________________________________________________________\n",
      "batch_normalization_6 (Batch (None, 11, 96)            384       \n",
      "_________________________________________________________________\n",
      "conv1d_5 (Conv1D)            (None, 11, 96)            9312      \n",
      "_________________________________________________________________\n",
      "batch_normalization_7 (Batch (None, 11, 96)            384       \n",
      "_________________________________________________________________\n",
      "max_pooling1d_2 (MaxPooling1 (None, 1, 96)             0         \n",
      "_________________________________________________________________\n",
      "lambda_5 (Lambda)            (None, 96)                0         \n",
      "_________________________________________________________________\n",
      "dropout_2 (Dropout)          (None, 96)                0         \n",
      "_________________________________________________________________\n",
      "dense_2 (Dense)              (None, 128)               12416     \n",
      "_________________________________________________________________\n",
      "batch_normalization_8 (Batch (None, 128)               512       \n",
      "_________________________________________________________________\n",
      "output (Dense)               (None, 199)               25671     \n",
      "=================================================================\n",
      "Total params: 103,975\n",
      "Trainable params: 103,335\n",
      "Non-trainable params: 640\n",
      "_________________________________________________________________\n"
     ]
    }
   ],
   "source": [
    "def compile_model():\n",
    "    model = tf.keras.Sequential([\n",
    "        tf.keras.layers.InputLayer(x.shape[1:], name='input'),\n",
    "        \n",
    "        tf.keras.layers.Conv2D(128, kernel_size=(1,1), strides=(1,1), activation='relu'),\n",
    "        tf.keras.layers.Conv2D(160, kernel_size=(1,1), strides=(1,1), activation='relu'),\n",
    "        tf.keras.layers.Conv2D(128, kernel_size=(1,1), strides=(1,1), activation='relu'),\n",
    "        tf.keras.layers.MaxPool2D(pool_size=(10,1)),\n",
    "        \n",
    "        tf.keras.layers.Lambda(lambda y: K.squeeze(y,1)),\n",
    "\n",
    "        tf.keras.layers.Conv1D(96, kernel_size=1, strides=1, activation='relu'),\n",
    "        tf.keras.layers.BatchNormalization(),\n",
    "        tf.keras.layers.Conv1D(96, kernel_size=1, strides=1, activation='relu'),\n",
    "        tf.keras.layers.BatchNormalization(),\n",
    "        tf.keras.layers.MaxPool1D(pool_size=11),\n",
    "        \n",
    "        tf.keras.layers.Lambda(lambda y: K.squeeze(y,1)),\n",
    "        \n",
    "        tf.keras.layers.Dropout(0.2),\n",
    "        \n",
    "        tf.keras.layers.Dense(128, activation='relu'),\n",
    "        tf.keras.layers.BatchNormalization(),\n",
    "\n",
    "        tf.keras.layers.Dense(199, activation='softmax', name='output')\n",
    "    ])\n",
    "\n",
    "    mse = tf.keras.losses.MeanSquaredError()\n",
    "    def pdf_CRPS(y_true_pdf, y_pred_pdf):\n",
    "        y_true_cdf = tf.math.cumsum(y_true_pdf, axis=1)\n",
    "        y_pred_cdf = tf.math.cumsum(y_pred_pdf, axis=1)\n",
    "\n",
    "        return mse(y_true_cdf, y_pred_cdf)\n",
    "\n",
    "    model.compile(optimizer='adam', loss=pdf_CRPS)\n",
    "    return model\n",
    "\n",
    "stop = tf.keras.callbacks.EarlyStopping()\n",
    "model = compile_model()\n",
    "model.summary()\n"
   ]
  },
  {
   "cell_type": "code",
   "execution_count": 25,
   "metadata": {},
   "outputs": [
    {
     "name": "stdout",
     "output_type": "stream",
     "text": [
      "Train on 18407 samples, validate on 4602 samples\n",
      "Epoch 1/20\n",
      "18407/18407 [==============================] - 5s 291us/sample - loss: 0.0173 - val_loss: 0.0143\n",
      "Epoch 2/20\n",
      "18407/18407 [==============================] - 5s 246us/sample - loss: 0.0132 - val_loss: 0.0140\n",
      "Epoch 3/20\n",
      "18407/18407 [==============================] - 4s 242us/sample - loss: 0.0129 - val_loss: 0.0138\n",
      "Epoch 4/20\n",
      "18407/18407 [==============================] - 4s 241us/sample - loss: 0.0126 - val_loss: 0.0137\n",
      "Epoch 5/20\n",
      "18407/18407 [==============================] - 4s 242us/sample - loss: 0.0124 - val_loss: 0.0132\n",
      "Epoch 6/20\n",
      "18407/18407 [==============================] - 4s 242us/sample - loss: 0.0122 - val_loss: 0.0131\n",
      "Epoch 7/20\n",
      "18407/18407 [==============================] - 4s 241us/sample - loss: 0.0121 - val_loss: 0.0130\n",
      "Epoch 8/20\n",
      "18407/18407 [==============================] - 4s 243us/sample - loss: 0.0120 - val_loss: 0.0129\n",
      "Epoch 9/20\n",
      "18407/18407 [==============================] - 5s 248us/sample - loss: 0.0119 - val_loss: 0.0129\n",
      "Epoch 10/20\n",
      "18407/18407 [==============================] - 5s 249us/sample - loss: 0.0119 - val_loss: 0.0129\n",
      "Epoch 11/20\n",
      "18407/18407 [==============================] - 4s 244us/sample - loss: 0.0118 - val_loss: 0.0128\n",
      "Epoch 12/20\n",
      "18407/18407 [==============================] - 5s 245us/sample - loss: 0.0117 - val_loss: 0.0127\n",
      "Epoch 13/20\n",
      "18407/18407 [==============================] - 5s 244us/sample - loss: 0.0117 - val_loss: 0.0126\n",
      "Epoch 14/20\n",
      "18407/18407 [==============================] - 4s 243us/sample - loss: 0.0116 - val_loss: 0.0125\n",
      "Epoch 15/20\n",
      "18407/18407 [==============================] - 5s 245us/sample - loss: 0.0115 - val_loss: 0.0127\n",
      "Epoch 16/20\n",
      "18407/18407 [==============================] - 5s 246us/sample - loss: 0.0114 - val_loss: 0.0125\n",
      "Epoch 17/20\n",
      "18407/18407 [==============================] - 5s 245us/sample - loss: 0.0113 - val_loss: 0.0123\n",
      "Epoch 18/20\n",
      "18407/18407 [==============================] - 5s 246us/sample - loss: 0.0113 - val_loss: 0.0124\n",
      "Epoch 19/20\n",
      "18407/18407 [==============================] - 4s 244us/sample - loss: 0.0112 - val_loss: 0.0124\n",
      "Epoch 20/20\n",
      "18407/18407 [==============================] - 5s 249us/sample - loss: 0.0112 - val_loss: 0.0124\n"
     ]
    }
   ],
   "source": [
    "history = model.fit(x_train, y_train, \n",
    "    epochs=20,\n",
    "    validation_split=0.2,\n",
    "    shuffle=False,\n",
    "    callbacks=[]\n",
    ")\n"
   ]
  },
  {
   "cell_type": "markdown",
   "metadata": {},
   "source": [
    " ## Training Report"
   ]
  },
  {
   "cell_type": "code",
   "execution_count": 26,
   "metadata": {},
   "outputs": [
    {
     "name": "stdout",
     "output_type": "stream",
     "text": [
      "        loss  val_loss\n",
      "15  0.011403  0.012460\n",
      "16  0.011326  0.012345\n",
      "17  0.011262  0.012403\n",
      "18  0.011173  0.012439\n",
      "19  0.011176  0.012352\n"
     ]
    },
    {
     "data": {
      "image/png": "[encoded data removed]",
      "text/plain": [
       "<Figure size 1152x576 with 2 Axes>"
      ]
     },
     "metadata": {
      "needs_background": "light"
     },
     "output_type": "display_data"
    }
   ],
   "source": [
    "hist = pd.DataFrame(history.history)\n",
    "fig, axes = plt.subplots(1,2, figsize=(16,8))\n",
    "baseline_mse = 0.013200\n",
    "goal_mse = 0.012864\n",
    "best_mse = 0.011658\n",
    "\n",
    "for start,ax in zip([0,-10], axes):\n",
    "    ax.plot(hist.loss[start:], label='loss')\n",
    "    ax.plot(hist.val_loss[start:], label='val_loss')\n",
    "\n",
    "    ax.axhline(baseline_mse, label='baseline', c='red', ls='--')\n",
    "    ax.axhline(goal_mse, label='goal', c='purple', ls='--')\n",
    "    ax.axhline(best_mse, label='best', c='green', ls='--')\n",
    "    \n",
    "    ax.legend()\n",
    "    ax.grid()\n",
    "\n",
    "    ax.set_xlabel(\"Epochs\")\n",
    "\n",
    "axes[1].set_xticks(np.arange(start % hist.index.max(), hist.index.max(), 2))\n",
    "\n",
    "print(hist.tail(5))\n",
    "fig.show()\n"
   ]
  },
  {
   "cell_type": "markdown",
   "metadata": {},
   "source": [
    " ## Model Scoring"
   ]
  },
  {
   "cell_type": "code",
   "execution_count": 27,
   "metadata": {},
   "outputs": [
    {
     "name": "stdout",
     "output_type": "stream",
     "text": [
      "7670/7670 [==============================] - 1s 69us/sample - loss: 0.0120\n"
     ]
    },
    {
     "data": {
      "text/plain": [
       "0.011998826865169962"
      ]
     },
     "execution_count": 27,
     "metadata": {},
     "output_type": "execute_result"
    }
   ],
   "source": [
    "model.evaluate(x_test, y_test)\n"
   ]
  }
 ],
 "metadata": {
  "kernelspec": {
   "display_name": "env",
   "language": "python",
   "name": "env"
  },
  "language_info": {
   "codemirror_mode": {
    "name": "ipython",
    "version": 3
   },
   "file_extension": ".py",
   "mimetype": "text/x-python",
   "name": "python",
   "nbconvert_exporter": "python",
   "pygments_lexer": "ipython3",
   "version": "3.6.9"
  }
 },
 "nbformat": 4,
 "nbformat_minor": 2
}
